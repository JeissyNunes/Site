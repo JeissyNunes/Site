{
  "nbformat": 4,
  "nbformat_minor": 0,
  "metadata": {
    "colab": {
      "name": "Cópia de Jeissiane_e_Adriana.ipynb",
      "provenance": [],
      "authorship_tag": "ABX9TyPSbfTJwb5NjIzL/oaSTnEd",
      "include_colab_link": true
    },
    "kernelspec": {
      "name": "python3",
      "display_name": "Python 3"
    },
    "language_info": {
      "name": "python"
    }
  },
  "cells": [
    {
      "cell_type": "markdown",
      "metadata": {
        "id": "view-in-github",
        "colab_type": "text"
      },
      "source": [
        "<a href=\"https://colab.research.google.com/github/JeissyNunes/site/blob/master/C%C3%B3pia_de_Jeissiane_e_Adriana.ipynb\" target=\"_parent\"><img src=\"https://colab.research.google.com/assets/colab-badge.svg\" alt=\"Open In Colab\"/></a>"
      ]
    },
    {
      "cell_type": "code",
      "metadata": {
        "colab": {
          "base_uri": "https://localhost:8080/"
        },
        "id": "DpdhU7KGLaNb",
        "outputId": "3e4ad3bc-a9e8-4b58-aa70-eb64da75add5"
      },
      "source": [
        "import copy\n",
        "\n",
        "\n",
        "class Turma:\n",
        "    def __init__(self, name, curso ='Aluno do IFMA'):\n",
        "        self.name = name\n",
        "        self.curso = curso\n",
        "\n",
        "\n",
        "if __name__ == '__main__':\n",
        "    original_turma = Turma('ALEXIA')\n",
        "    print(original_turma.name)\n",
        "    print(original_turma.curso)\n",
        "\n",
        "    cloned_turma = copy.deepcopy(original_sheep)\n",
        "    cloned_turma.name = 'HELLEN'\n",
        "    print(cloned_turma.name)\n",
        "    print(cloned_turma.curso)\n",
        "\n",
        "    cloned_Turma2 = copy.deepcopy(original_sheep)\n",
        "    cloned_turma.name = 'FERNANDO'\n",
        "    print(cloned_turma.name)\n",
        "    print(cloned_turma.curso)"
      ],
      "execution_count": null,
      "outputs": [
        {
          "output_type": "stream",
          "text": [
            "ALEXIA\n",
            "Aluno do IFMA\n",
            "HELLEN\n",
            "Aluno do IFMA\n",
            "FERNANDO\n",
            "Aluno do IFMA\n"
          ],
          "name": "stdout"
        }
      ]
    }
  ]
}